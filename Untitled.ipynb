{
 "cells": [
  {
   "cell_type": "code",
   "execution_count": 1,
   "id": "38b33c5f-44c0-4978-9b99-6f3bbc3af3b2",
   "metadata": {},
   "outputs": [],
   "source": [
    "import cv2\n",
    "import numpy as np\n",
    "\n",
    "# Read the input image\n",
    "original_image = cv2.imread('yeakub.jpg')  # Replace with the actual path to your image\n",
    "\n",
    "# Convert the image to grayscale\n",
    "gray_image = cv2.cvtColor(original_image, cv2.COLOR_BGR2GRAY)\n",
    "\n",
    "# Use Sobel edge detection to find frame boundaries\n",
    "edge_image = cv2.Sobel(gray_image, cv2.CV_64F, 1, 0, ksize=3)\n",
    "\n",
    "# Use Hough circle algorithm to detect iris\n",
    "circles = cv2.HoughCircles(gray_image, cv2.HOUGH_GRADIENT, dp=1, minDist=20, param1=50, param2=30, minRadius=10, maxRadius=100)  # Adjust parameters based on your specific case\n",
    "\n",
    "# Choose the circle with the best fit\n",
    "best_circle = circles[0][0]  # Assuming there is only one circle found, adjust as needed\n",
    "\n",
    "# Crop the region around the detected iris\n",
    "iris_center = (int(best_circle[0]), int(best_circle[1]))\n",
    "iris_radius = int(best_circle[2])\n",
    "mask = np.zeros_like(original_image)\n",
    "cv2.circle(mask, iris_center, iris_radius, (255, 255, 255), thickness=-1)\n",
    "cropped_image = cv2.bitwise_and(original_image, mask)\n",
    "\n",
    "# Extract the white part as a reference for conjunctiva brightness\n",
    "white_part = cropped_image.copy()\n",
    "white_part[mask == 0] = 255\n",
    "\n",
    "# Display the results\n",
    "cv2.imshow('Original Image', original_image)\n",
    "cv2.imshow('Grayscale Image', gray_image)\n",
    "cv2.imshow('Cropped Image', cropped_image)\n",
    "cv2.imshow('Extracted White Part', white_part)\n",
    "cv2.waitKey(0)\n",
    "cv2.destroyAllWindows()\n"
   ]
  }
 ],
 "metadata": {
  "kernelspec": {
   "display_name": "Python 3 (ipykernel)",
   "language": "python",
   "name": "python3"
  },
  "language_info": {
   "codemirror_mode": {
    "name": "ipython",
    "version": 3
   },
   "file_extension": ".py",
   "mimetype": "text/x-python",
   "name": "python",
   "nbconvert_exporter": "python",
   "pygments_lexer": "ipython3",
   "version": "3.11.8"
  }
 },
 "nbformat": 4,
 "nbformat_minor": 5
}
